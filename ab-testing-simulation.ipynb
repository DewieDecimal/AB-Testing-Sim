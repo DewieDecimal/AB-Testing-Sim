{
 "cells": [
  {
   "cell_type": "markdown",
   "id": "65e21be2",
   "metadata": {},
   "source": [
    "# A/B Testing Simulation for Marketplace Platform\n",
    "\n",
    "## Introduction to A/B Testing and Project Goals\n",
    "### A/B Testing\n",
    "\n",
    "A/B testing is a powerful statistical method used to compare two versions of a product, feature, or system to determine which performs better. It involves splitting users into two groups—**Control** (the current version) and **Treatment** (the new version)—and measuring the impact on key performance metrics. By randomly assigning users and analyzing the results, A/B testing helps make data-driven decisions.\n",
    "\n",
    "### Project Goals\n",
    "\n",
    "In this notebook, we’ll step into the shoes of a data team at **The Guild**, a fictional gig marketplace platform. Our mission? Evaluate whether a revamped **ranking algorithm** does a better job at recommending relevant job requests to our supply-side users—adventurers, or service providers.\n",
    "\n",
    "The Guild already had a ranking system in place, but it was built over three years ago. As the platform evolved, we suspected that the original algorithm might be outdated. We started tracking events when users open to see details of a job requets and when they accept a job request, then analyzed, and concluded that the original algorithm no longer reflects how our suppliers behave or what they prioritize. So we went back to the drawing board—reanalyzed the key factors driving job acceptance, redesigned the algorithm, and now we’re ready to put it to the test.\n",
    "\n",
    "To do that, we’ll simulate an **A/B test** comparing the old and new algorithms. Our goal is to see whether the new algorithm increases supplier efficiency by putting more relevant job requests right at the top of their screens, so no scrolling needed.\n",
    "\n",
    "Let’s walk through how we’ll design the experiment, measure success, and make a decision—just like a real data team at The Guild would.\n",
    "\n",
    "- **Target Metric**: Increase the **Top K Accepting Rate** (acceptance rate of the top 3 job requests).\n",
    "- **Guardrail Metrics**: Ensure no significant negative impact on:\n",
    "  - **Overall Acceptance Rate**\n",
    "  - **Time to Accept**\n",
    "- **Informative Metrics**: Gain insights from:\n",
    "  - **Average Position of Accepted Job Requests**.\n",
    "  - **Acceptance Rate at Selected Order**.\n",
    "\n",
    "We’ll use simulated data to compare the current ranking algorithm (Control) against the new revamped ranking (Treatment) to decide whether to launch the new algorithm.\n"
   ]
  },
  {
   "cell_type": "markdown",
   "id": "b80dc6c2",
   "metadata": {},
   "source": []
  },
  {
   "cell_type": "markdown",
   "id": "6549fe66",
   "metadata": {},
   "source": [
    "---"
   ]
  },
  {
   "cell_type": "markdown",
   "id": "5d7cd47f",
   "metadata": {},
   "source": [
    "## Experiment Design\n",
    "\n",
    "### Variants\n",
    "\n",
    "- **Control (A)**: Job requests are ranked using the current algorithm.\n",
    "- **Treatment (B)**: Job requests are ranked using the new algorithm.\n",
    "\n",
    "### Metrics\n",
    "\n",
    "#### Metric Definitions and Rationale\n",
    "\n",
    "In this section, we explain the three types of metrics used in the experiment: **Target**, **Guardrail**, and **Informative**. Each metric includes its purpose, formula, and why it matters.\n",
    "\n"
   ]
  },
  {
   "cell_type": "markdown",
   "id": "ba75181b",
   "metadata": {},
   "source": [
    "---\n",
    "\n",
    "#### Target Metric\n",
    "\n",
    "##### **Top‑K Acceptance Rate (K=3)**  \n",
    "- **Purpose**: Measures if the new algorithm places more *relevant* job requests in the top positions.\n",
    "- **Definition**: The percentage of accepted job requests that were ranked within the top K positions—i.e., shown among the first 3 jobs (K=3) without scrolling, on the screen when the supplier decided to accept. \n",
    "- **Formula**:  \n",
    "$$\n",
    "\\text{Top-}K\\ \\text{Acceptance Rate} = \\frac{\\#\\ \\text{of accepts within top } K\\ \\text{positions}}{\\#\\ \\text{of total accepts}}\n",
    "$$\n",
    "\n",
    "\n",
    "- **Goal**: **Increase**. A higher rate means the top 3 jobs are more relevant and likely to be accepted.\n",
    "\n",
    "---\n",
    "\n",
    "#### Guardrail Metrics\n",
    "\n",
    "These metrics ensure that overall platform performance and user experience are **not negatively impacted** by the new algorithm.\n",
    "\n",
    "##### 1. **Overall Acceptance Rate**  \n",
    "- **Definition**: Proportion of recommended job requests that are accepted.  \n",
    "- **Formula**:  \n",
    "  $$\n",
    "  \\text{Overall Acceptance Rate} = \\frac{\\text{\\# accepted job requests}}{\\text{total \\# job requests}}\n",
    "  $$\n",
    "\n",
    "- **Goal**: **Stay stable or improve**. A significant drop could signal reduced engagement or quality.\n",
    "\n",
    "##### 2. **Time to Accept (Median & 90th Percentile)**  \n",
    "- **Definition**: Time (in seconds) from when the list is shown to when a job request is accepted.  \n",
    "- **Formula**:  \n",
    "  $$\n",
    "  \\text{Time to Accept} = \\text{timestamp}_{accept} - \\text{timestamp}_{list\\_shown}\n",
    "  $$\n",
    "  Then compute:  \n",
    "  - **Median (P50)**: typical supplier experience  \n",
    "  - **90th Percentile (P90)**: slowest 10% of suppliers  \n",
    "- **Goal**: **Lower or unchanged**. Longer times could mean more friction in finding good jobs.\n",
    "\n",
    "---\n",
    "\n",
    "#### 📊 Informative Metrics\n",
    "\n",
    "These metrics help explain *why* a result occurred and guide future improvements.\n",
    "\n",
    "##### 1. **Median Position of Accepted Job Requests**  \n",
    "- **Definition**: Median position of all accepted job requests in the list.\n",
    "- **Goal**: **Lower**. Indicates suppliers are accepting jobs closer to the top of the list.\n",
    "\n",
    "##### 2. **Acceptance Rate at Selected Order**  \n",
    "- **Definition**: Acceptance rate of each job request position (e.g. 1st, 2nd, 3rd, ...).  \n",
    "- **Formula**:  \n",
    "  $$\n",
    "  \\text{Acceptance Rate}_i = \\frac{\\text{\\# of accepts at position } i}{\\text{Total \\# of accepts}}\n",
    "  $$\n",
    "- **Goal**: **Higher in top ranks**. Shows whether the new ranking surfaces better jobs at the top.\n",
    "\n",
    "---\n",
    "\n",
    "Together, these metrics offer a well-rounded evaluation: the **target metric** tells us if we achieved our goal, **guardrails** ensure safety, and **informative metrics** help us understand how and why the change worked (or didn’t).\n"
   ]
  },
  {
   "cell_type": "markdown",
   "id": "e41928da",
   "metadata": {},
   "source": [
    "\n",
    "### Hypothesis\n",
    "\n",
    "**If we implement the new ranking algorithm, the Top 3 Accepting Rate will increase because suppliers will see the most suitable job requests first.**\n",
    "\n",
    "### Triggering\n",
    "\n",
    "Suppliers are randomly assigned to Control or Treatment when they view the job list.\n"
   ]
  },
  {
   "cell_type": "markdown",
   "id": "0991f872",
   "metadata": {},
   "source": [
    "### Run-Time\n",
    "\n",
    "- Duration: 22 days (the experiment runs through the end of the 22nd day).\n",
    "- Sample Size: 50 eligible suppliers per group per day (1056 suppliers per group in total). Eligibility is defined as having seen at least 5 job requests during a session.\n",
    "\n",
    "Note: Since we tend to underestimate the actual number, the actual daily number can be higher (≈80). As a result, the final sample size tend to exceed the minimum requirement. However, the 22-day run-time is pre-specified. We will not stop or extend the test. The additional data improves statistical power without compromising the validity of the test."
   ]
  },
  {
   "cell_type": "code",
   "execution_count": null,
   "id": "eddf4bda",
   "metadata": {},
   "outputs": [
    {
     "name": "stdout",
     "output_type": "stream",
     "text": [
      "Required sample size per group (two-tailed): 1056\n"
     ]
    }
   ],
   "source": [
    "# Sample size calculation using statsmodels for a two-tailed test\n",
    "# Z-test for two proportions using a two-tailed test is used because we are interested in detecting a significant change in the conversion rate in either direction (Treatment ≠ Control)\n",
    "\n",
    "import math\n",
    "from statsmodels.stats.proportion import samplesize_proportions_2indep_onetail\n",
    "\n",
    "# Parameters\n",
    "baseline_rate = 0.86  # baseline Top 3 Acceptance Rate\n",
    "mde = 0.05  # desired absolute lift (5%), which means we want to detect a conversion rate of 91% in the treatment group\n",
    "alpha = 0.05  # significance level, alpha is commonly set at 5%, indicating a 5% chance of a Type I error\n",
    "power = 0.95  # desired power (1 - beta), beta is the probability of a Type II error, commonly set at 0.20 for 80% power\n",
    "ratio = 1.0  # equal sample sizes in both sets\n",
    "\n",
    "# Calculate required sample size per group (two-tailed)\n",
    "n_per_group = samplesize_proportions_2indep_onetail(\n",
    "    diff=mde,\n",
    "    prop2=baseline_rate,\n",
    "    power=power,\n",
    "    ratio=ratio,\n",
    "    alpha=alpha,\n",
    "    alternative='two-sided'  # two-tailed test: detect difference in either direction\n",
    ")\n",
    "\n",
    "print(f\"Required sample size per group (two-tailed): {math.ceil(n_per_group)}\")"
   ]
  },
  {
   "cell_type": "markdown",
   "id": "938b4910",
   "metadata": {},
   "source": []
  },
  {
   "cell_type": "markdown",
   "id": "3a3dafc4",
   "metadata": {},
   "source": [
    "---"
   ]
  },
  {
   "cell_type": "markdown",
   "id": "81dd0168",
   "metadata": {},
   "source": [
    "## Data Generation\n",
    "\n",
    "We simulate supplier interactions with job requests using the following setup:\n",
    "\n",
    "1. **Experiment Group Assignment**  \n",
    "   Each supplier is randomly assigned to:\n",
    "   - **Control**: Jobs ranked by the existing algorithm.\n",
    "   - **Treatment**: Jobs ranked using a new suitability-based algorithm.\n",
    "\n",
    "2. **Job List Simulation**  \n",
    "   Suppliers receive a list of job requests. The number of jobs shown varies across users to reflect real-world conditions.\n",
    "\n",
    "3. **Event Tracking**\n",
    "   - `open`: Recorded when a supplier views a job. Captures job **position**, **ID**, and **list length**.\n",
    "   - `accept`: Recorded if a job is accepted. Captures the same metadata as `open`.\n",
    "\n",
    "4. **Acceptance Logic**  \n",
    "   Whether a supplier accepts a job depends on both its **position in the list** and its **suitability score** (higher in Treatment group).\n",
    "\n",
    "Each supplier contributes one session to the simulation. Some accept jobs, others don’t—mirroring actual behavior on the platform.\n"
   ]
  },
  {
   "cell_type": "markdown",
   "id": "3049fbb4",
   "metadata": {},
   "source": []
  },
  {
   "cell_type": "markdown",
   "id": "a4263081",
   "metadata": {},
   "source": [
    "---"
   ]
  },
  {
   "cell_type": "markdown",
   "id": "d87dbd23",
   "metadata": {},
   "source": [
    "## Simulation Code"
   ]
  },
  {
   "cell_type": "code",
   "execution_count": 4,
   "id": "1b8579a9",
   "metadata": {},
   "outputs": [],
   "source": [
    "import numpy as np\n",
    "np.random.seed(42) # Set random seed for reproducibility\n",
    "\n",
    "# Function to simulate one supplier's behavior\n",
    "def simulate_supplier(supplier_id, group, min_jobs, max_jobs, time_per_job):\n",
    "    \"\"\"\n",
    "    Simulates a supplier's interaction with a job list.\n",
    "    Acceptance probability (p_accept = s * (1 - (pos - 1) / n_jobs)) decreases with position,\n",
    "    reflecting lower engagement with lower-ranked jobs, scaled by suitability (s).\n",
    "    We do pos - 1 to ensure the first job has the highest acceptance probability possible and the last job has the lowest instead of 0.\n",
    "    \n",
    "    Parameters:\n",
    "        supplier_id (int): Unique identifier for the supplier\n",
    "        group (str): 'control' or 'treatment' group\n",
    "    \n",
    "    Returns:\n",
    "        events (list): List of event dictionaries ('open' and 'accept')\n",
    "        accepted (bool): Whether a job was accepted\n",
    "        position (int or None): Position of the accepted job, or None if no acceptance\n",
    "        time_to_accept (int or None): Time taken to accept in seconds, or None if no acceptance\n",
    "    \"\"\"\n",
    "    # Generate random number of jobs between min_jobs and max_jobs\n",
    "    n_jobs = np.random.randint(min_jobs, max_jobs + 1)\n",
    "    \n",
    "    # Create unique job IDs for this supplier\n",
    "    job_ids = [f\"job_{supplier_id}_{i}\" for i in range(n_jobs)]\n",
    "    \n",
    "    # Generate suitability scores for each job\n",
    "    suitability = np.random.uniform(0, 1, n_jobs)\n",
    "    \n",
    "    # Determine job order based on group\n",
    "    if group == 'treatment':\n",
    "        order = np.argsort(suitability)[::-1]  # Sort by suitability (descending)\n",
    "    else:\n",
    "        order = np.random.permutation(n_jobs)  # Random order for control\n",
    "    \n",
    "    events = []\n",
    "    for pos in range(1, n_jobs + 1):\n",
    "        job_idx = order[pos - 1]\n",
    "        job_id = job_ids[job_idx]\n",
    "        s = suitability[job_idx]\n",
    "        \n",
    "        # Record 'open' event for each job viewed\n",
    "        events.append({\n",
    "            'supplier_id': supplier_id,\n",
    "            'group': group,\n",
    "            'event_type': 'open',\n",
    "            'job_id': job_id,\n",
    "            'position': pos,\n",
    "            'list_length': n_jobs\n",
    "        })\n",
    "        \n",
    "        # Calculate acceptance probability\n",
    "        p_accept = s * (1 - (pos - 1) / n_jobs) # The higher the position, the lower the acceptance probability\n",
    "        if np.random.rand() < p_accept:\n",
    "            # Accept the job and record the event\n",
    "            time_to_accept = pos * time_per_job\n",
    "            events.append({\n",
    "                'supplier_id': supplier_id,\n",
    "                'group': group,\n",
    "                'event_type': 'accept',\n",
    "                'job_id': job_id,\n",
    "                'position': pos,\n",
    "                'list_length': n_jobs,\n",
    "                'time_to_accept': time_to_accept\n",
    "            })\n",
    "            time_to_accept = pos * time_per_job\n",
    "            return events, True, pos, time_to_accept\n",
    "    \n",
    "    # If no job is accepted\n",
    "    return events, False, None, None"
   ]
  },
  {
   "cell_type": "code",
   "execution_count": null,
   "id": "33398487",
   "metadata": {},
   "outputs": [],
   "source": [
    "def generate_synthetic_data(total_suppliers_per_group, min_jobs, max_jobs, time_per_job):\n",
    "    \"\"\"\n",
    "    Generates synthetic data for suppliers in both control and treatment groups.\n",
    "    \n",
    "    Returns:\n",
    "        control_summaries (list): Summary of events for control group suppliers\n",
    "        treatment_summaries (list): Summary of events for treatment group suppliers\n",
    "        all_events (list): List of all events generated\n",
    "    \"\"\"\n",
    "\n",
    "    # Generate synthetic data for all suppliers\n",
    "    control_summaries = []\n",
    "    treatment_summaries = []\n",
    "    all_events = []\n",
    "\n",
    "    # Simulate Control group\n",
    "    for supplier_id in range(1, total_suppliers_per_group + 1):\n",
    "        events, accepted, pos, time = simulate_supplier(supplier_id, 'control', min_jobs, max_jobs, time_per_job)\n",
    "        all_events.extend(events)\n",
    "        control_summaries.append((accepted, pos, time))\n",
    "\n",
    "    # Simulate Treatment group\n",
    "    for supplier_id in range(total_suppliers_per_group + 1, 2 * total_suppliers_per_group + 1):\n",
    "        events, accepted, pos, time = simulate_supplier(supplier_id, 'treatment', min_jobs, max_jobs, time_per_job)\n",
    "        all_events.extend(events)\n",
    "        treatment_summaries.append((accepted, pos, time))\n",
    "\n",
    "    # Example output to verify data generation\n",
    "    print(f\"Generated data for {total_suppliers_per_group} suppliers in Control group\")\n",
    "    print(f\"Generated data for {total_suppliers_per_group} suppliers in Treatment group\")\n",
    "    print(f\"Total events generated: {len(all_events)}\")\n",
    "    \n",
    "    return control_summaries, treatment_summaries, all_events\n"
   ]
  },
  {
   "cell_type": "code",
   "execution_count": 6,
   "id": "3b500fbf",
   "metadata": {},
   "outputs": [
    {
     "name": "stdout",
     "output_type": "stream",
     "text": [
      "Generated data for 1056 suppliers in Control group\n",
      "Generated data for 1056 suppliers in Treatment group\n",
      "Total events generated: 5669\n"
     ]
    }
   ],
   "source": [
    "# Simulation parameters\n",
    "total_suppliers_per_group = 1056  # Number of suppliers per group from sample size calculation\n",
    "min_jobs = 5                      # Minimum number of jobs per supplier\n",
    "max_jobs = 15                     # Maximum number of jobs per supplier\n",
    "time_per_job = 5                  # Time (seconds) to evaluate each job\n",
    "\n",
    "control_summaries, treatment_summaries, all_events = generate_synthetic_data(total_suppliers_per_group, min_jobs, max_jobs, time_per_job)"
   ]
  },
  {
   "cell_type": "code",
   "execution_count": 7,
   "id": "ad47f8d7",
   "metadata": {},
   "outputs": [
    {
     "name": "stdout",
     "output_type": "stream",
     "text": [
      "Sample of generated events:\n"
     ]
    },
    {
     "data": {
      "text/html": [
       "<div>\n",
       "<style scoped>\n",
       "    .dataframe tbody tr th:only-of-type {\n",
       "        vertical-align: middle;\n",
       "    }\n",
       "\n",
       "    .dataframe tbody tr th {\n",
       "        vertical-align: top;\n",
       "    }\n",
       "\n",
       "    .dataframe thead th {\n",
       "        text-align: right;\n",
       "    }\n",
       "</style>\n",
       "<table border=\"1\" class=\"dataframe\">\n",
       "  <thead>\n",
       "    <tr style=\"text-align: right;\">\n",
       "      <th></th>\n",
       "      <th>supplier_id</th>\n",
       "      <th>group</th>\n",
       "      <th>event_type</th>\n",
       "      <th>job_id</th>\n",
       "      <th>position</th>\n",
       "      <th>list_length</th>\n",
       "      <th>time_to_accept</th>\n",
       "    </tr>\n",
       "  </thead>\n",
       "  <tbody>\n",
       "    <tr>\n",
       "      <th>0</th>\n",
       "      <td>1</td>\n",
       "      <td>control</td>\n",
       "      <td>open</td>\n",
       "      <td>job_1_9</td>\n",
       "      <td>1</td>\n",
       "      <td>11</td>\n",
       "      <td>NaN</td>\n",
       "    </tr>\n",
       "    <tr>\n",
       "      <th>1</th>\n",
       "      <td>1</td>\n",
       "      <td>control</td>\n",
       "      <td>accept</td>\n",
       "      <td>job_1_9</td>\n",
       "      <td>1</td>\n",
       "      <td>11</td>\n",
       "      <td>5.0</td>\n",
       "    </tr>\n",
       "    <tr>\n",
       "      <th>2</th>\n",
       "      <td>2</td>\n",
       "      <td>control</td>\n",
       "      <td>open</td>\n",
       "      <td>job_2_12</td>\n",
       "      <td>1</td>\n",
       "      <td>13</td>\n",
       "      <td>NaN</td>\n",
       "    </tr>\n",
       "    <tr>\n",
       "      <th>3</th>\n",
       "      <td>2</td>\n",
       "      <td>control</td>\n",
       "      <td>accept</td>\n",
       "      <td>job_2_12</td>\n",
       "      <td>1</td>\n",
       "      <td>13</td>\n",
       "      <td>5.0</td>\n",
       "    </tr>\n",
       "    <tr>\n",
       "      <th>4</th>\n",
       "      <td>3</td>\n",
       "      <td>control</td>\n",
       "      <td>open</td>\n",
       "      <td>job_3_2</td>\n",
       "      <td>1</td>\n",
       "      <td>12</td>\n",
       "      <td>NaN</td>\n",
       "    </tr>\n",
       "    <tr>\n",
       "      <th>5664</th>\n",
       "      <td>2111</td>\n",
       "      <td>treatment</td>\n",
       "      <td>open</td>\n",
       "      <td>job_2111_4</td>\n",
       "      <td>6</td>\n",
       "      <td>11</td>\n",
       "      <td>NaN</td>\n",
       "    </tr>\n",
       "    <tr>\n",
       "      <th>5665</th>\n",
       "      <td>2111</td>\n",
       "      <td>treatment</td>\n",
       "      <td>open</td>\n",
       "      <td>job_2111_7</td>\n",
       "      <td>7</td>\n",
       "      <td>11</td>\n",
       "      <td>NaN</td>\n",
       "    </tr>\n",
       "    <tr>\n",
       "      <th>5666</th>\n",
       "      <td>2111</td>\n",
       "      <td>treatment</td>\n",
       "      <td>accept</td>\n",
       "      <td>job_2111_7</td>\n",
       "      <td>7</td>\n",
       "      <td>11</td>\n",
       "      <td>35.0</td>\n",
       "    </tr>\n",
       "    <tr>\n",
       "      <th>5667</th>\n",
       "      <td>2112</td>\n",
       "      <td>treatment</td>\n",
       "      <td>open</td>\n",
       "      <td>job_2112_0</td>\n",
       "      <td>1</td>\n",
       "      <td>6</td>\n",
       "      <td>NaN</td>\n",
       "    </tr>\n",
       "    <tr>\n",
       "      <th>5668</th>\n",
       "      <td>2112</td>\n",
       "      <td>treatment</td>\n",
       "      <td>accept</td>\n",
       "      <td>job_2112_0</td>\n",
       "      <td>1</td>\n",
       "      <td>6</td>\n",
       "      <td>5.0</td>\n",
       "    </tr>\n",
       "  </tbody>\n",
       "</table>\n",
       "</div>"
      ],
      "text/plain": [
       "      supplier_id      group event_type      job_id  position  list_length  \\\n",
       "0               1    control       open     job_1_9         1           11   \n",
       "1               1    control     accept     job_1_9         1           11   \n",
       "2               2    control       open    job_2_12         1           13   \n",
       "3               2    control     accept    job_2_12         1           13   \n",
       "4               3    control       open     job_3_2         1           12   \n",
       "5664         2111  treatment       open  job_2111_4         6           11   \n",
       "5665         2111  treatment       open  job_2111_7         7           11   \n",
       "5666         2111  treatment     accept  job_2111_7         7           11   \n",
       "5667         2112  treatment       open  job_2112_0         1            6   \n",
       "5668         2112  treatment     accept  job_2112_0         1            6   \n",
       "\n",
       "      time_to_accept  \n",
       "0                NaN  \n",
       "1                5.0  \n",
       "2                NaN  \n",
       "3                5.0  \n",
       "4                NaN  \n",
       "5664             NaN  \n",
       "5665             NaN  \n",
       "5666            35.0  \n",
       "5667             NaN  \n",
       "5668             5.0  "
      ]
     },
     "execution_count": 7,
     "metadata": {},
     "output_type": "execute_result"
    }
   ],
   "source": [
    "import pandas as pd\n",
    "pd.set_option('display.max_columns', None)  # Show all columns in DataFrame output\n",
    "\n",
    "# Convert the list of events to a DataFrame for easier analysis\n",
    "events_df = pd.DataFrame(all_events)\n",
    "\n",
    "# Display a sample of the generated events\n",
    "print(\"Sample of generated events:\")\n",
    "pd.concat([events_df.head(5), events_df.tail(5)], ignore_index=False)"
   ]
  },
  {
   "cell_type": "code",
   "execution_count": 8,
   "id": "a251074b",
   "metadata": {},
   "outputs": [
    {
     "name": "stdout",
     "output_type": "stream",
     "text": [
      "2361 jobs opened in control group\n",
      "1246 jobs opened in treatment group\n",
      "1017 jobs accepted in control group\n",
      "1045 jobs accepted in treatment group\n"
     ]
    }
   ],
   "source": [
    "print(events_df[(events_df['group'] == 'control') & (events_df['event_type'] == 'open')].shape[0], \"jobs opened in control group\")\n",
    "print(events_df[(events_df['group'] == 'treatment') & (events_df['event_type'] == 'open')].shape[0], \"jobs opened in treatment group\")\n",
    "print(events_df[(events_df['group'] == 'control') & (events_df['event_type'] == 'accept')].shape[0], \"jobs accepted in control group\")\n",
    "print(events_df[(events_df['group'] == 'treatment') & (events_df['event_type'] == 'accept')].shape[0], \"jobs accepted in treatment group\")"
   ]
  },
  {
   "cell_type": "code",
   "execution_count": 9,
   "id": "d410977e",
   "metadata": {},
   "outputs": [
    {
     "name": "stdout",
     "output_type": "stream",
     "text": [
      "       group  distinct_supplier_count\n",
      "0    control                     1056\n",
      "1  treatment                     1056\n"
     ]
    }
   ],
   "source": [
    "# Let's check the number of distinct suppliers in each group just to be sure\n",
    "distinct_suppliers_per_group = (\n",
    "    events_df.groupby(['group'])['supplier_id']\n",
    "    .nunique()\n",
    "    .reset_index(name='distinct_supplier_count')\n",
    ")\n",
    "\n",
    "# Display the result\n",
    "print(distinct_suppliers_per_group)"
   ]
  },
  {
   "cell_type": "markdown",
   "id": "0db3e27b",
   "metadata": {},
   "source": []
  },
  {
   "cell_type": "markdown",
   "id": "e5f6ea4c",
   "metadata": {},
   "source": [
    "---\n",
    "## Metric Computation"
   ]
  },
  {
   "cell_type": "markdown",
   "id": "bb3ad85a",
   "metadata": {},
   "source": [
    "### Target Metric"
   ]
  },
  {
   "cell_type": "code",
   "execution_count": 10,
   "id": "ea7c40a4",
   "metadata": {},
   "outputs": [
    {
     "name": "stdout",
     "output_type": "stream",
     "text": [
      "Top-K Acceptance Rate (K=3):\n",
      "group\n",
      "control      0.865290\n",
      "treatment    0.991388\n",
      "dtype: float64\n"
     ]
    }
   ],
   "source": [
    "# Top-K Acceptance Rate (K=3)\n",
    "accepts = events_df[events_df['event_type'] == 'accept']\n",
    "top_k_accepts = accepts[accepts['position'] <= 3]\n",
    "top_k_rate = top_k_accepts.groupby('group').size() / accepts.groupby('group').size()\n",
    "print(\"Top-K Acceptance Rate (K=3):\")\n",
    "print(top_k_rate)"
   ]
  },
  {
   "cell_type": "code",
   "execution_count": 11,
   "id": "e1e132f7",
   "metadata": {},
   "outputs": [
    {
     "data": {
      "image/png": "[encoded data removed]",
      "text/plain": [
       "<Figure size 640x480 with 1 Axes>"
      ]
     },
     "metadata": {},
     "output_type": "display_data"
    }
   ],
   "source": [
    "import matplotlib.pyplot as plt\n",
    "%matplotlib inline\n",
    "\n",
    "# Plotting the Top-K Acceptance Rate\n",
    "ax = top_k_rate.plot(kind='bar', title='Top-K Acceptance Rate (K=3)', ylabel='Acceptance Rate', xlabel='Group')\n",
    "plt.yticks([], [])  # Hide y-ticks for cleaner visualization\n",
    "plt.xticks(rotation=0)  # Rotate x-ticks for better readability\n",
    "\n",
    "# Add data labels\n",
    "for i, v in enumerate(top_k_rate):\n",
    "    ax.text(i, v + 0.005, f\"{v:.2%}\", ha='center', va='bottom', fontsize=10)\n",
    "\n",
    "plt.tight_layout()"
   ]
  },
  {
   "cell_type": "markdown",
   "id": "5626d099",
   "metadata": {},
   "source": [
    "### Guardrail Metrics"
   ]
  },
  {
   "cell_type": "code",
   "execution_count": 12,
   "id": "8be05a89",
   "metadata": {},
   "outputs": [
    {
     "name": "stdout",
     "output_type": "stream",
     "text": [
      "Overall Acceptance Rate:\n",
      "group\n",
      "control      0.430750\n",
      "treatment    0.838684\n",
      "dtype: float64\n"
     ]
    }
   ],
   "source": [
    "# Overall Acceptance Rate\n",
    "overall_acceptance_rate = accepts.groupby('group').size() / events_df[events_df['event_type'] == 'open'].groupby('group').size()\n",
    "print(\"Overall Acceptance Rate:\")\n",
    "print(overall_acceptance_rate)"
   ]
  },
  {
   "cell_type": "code",
   "execution_count": 13,
   "id": "88a616b2",
   "metadata": {},
   "outputs": [
    {
     "data": {
      "image/png": "[encoded data removed]",
      "text/plain": [
       "<Figure size 640x480 with 1 Axes>"
      ]
     },
     "metadata": {},
     "output_type": "display_data"
    }
   ],
   "source": [
    "# Plotting Overall Acceptance Rate\n",
    "ax = overall_acceptance_rate.plot(kind='bar', title='Overall Acceptance Rate', ylabel='Acceptance Rate', xlabel='Group')\n",
    "plt.yticks([], [])  # Hide y-ticks for cleaner visualization\n",
    "plt.xticks(rotation=0)  # Rotate x-ticks for better readability\n",
    "\n",
    "# Add data labels\n",
    "for i, v in enumerate(overall_acceptance_rate):\n",
    "    ax.text(i, v + 0.005, f\"{v:.2%}\", ha='center', va='bottom', fontsize=10)\n",
    "\n",
    "plt.tight_layout()"
   ]
  },
  {
   "cell_type": "code",
   "execution_count": 14,
   "id": "b280d0df",
   "metadata": {},
   "outputs": [
    {
     "name": "stdout",
     "output_type": "stream",
     "text": [
      "Time to Accept (Median & 90th Percentile):\n"
     ]
    },
    {
     "data": {
      "text/html": [
       "<div>\n",
       "<style scoped>\n",
       "    .dataframe tbody tr th:only-of-type {\n",
       "        vertical-align: middle;\n",
       "    }\n",
       "\n",
       "    .dataframe tbody tr th {\n",
       "        vertical-align: top;\n",
       "    }\n",
       "\n",
       "    .dataframe thead th {\n",
       "        text-align: right;\n",
       "    }\n",
       "</style>\n",
       "<table border=\"1\" class=\"dataframe\">\n",
       "  <thead>\n",
       "    <tr style=\"text-align: right;\">\n",
       "      <th></th>\n",
       "      <th>median</th>\n",
       "      <th>p90</th>\n",
       "    </tr>\n",
       "    <tr>\n",
       "      <th>group</th>\n",
       "      <th></th>\n",
       "      <th></th>\n",
       "    </tr>\n",
       "  </thead>\n",
       "  <tbody>\n",
       "    <tr>\n",
       "      <th>control</th>\n",
       "      <td>5.0</td>\n",
       "      <td>20.0</td>\n",
       "    </tr>\n",
       "    <tr>\n",
       "      <th>treatment</th>\n",
       "      <td>5.0</td>\n",
       "      <td>5.0</td>\n",
       "    </tr>\n",
       "  </tbody>\n",
       "</table>\n",
       "</div>"
      ],
      "text/plain": [
       "           median   p90\n",
       "group                  \n",
       "control       5.0  20.0\n",
       "treatment     5.0   5.0"
      ]
     },
     "execution_count": 14,
     "metadata": {},
     "output_type": "execute_result"
    }
   ],
   "source": [
    "# Time to Accept (Median & 90th Percentile) (seconds)\n",
    "time_to_accept = accepts.groupby('group')['time_to_accept'].agg(\n",
    "    median='median',\n",
    "    p90=lambda x: x.quantile(0.9)\n",
    ")\n",
    "print(\"Time to Accept (Median & 90th Percentile):\")\n",
    "time_to_accept"
   ]
  },
  {
   "cell_type": "code",
   "execution_count": 15,
   "id": "e2a56a42",
   "metadata": {},
   "outputs": [
    {
     "data": {
      "image/png": "[encoded data removed]",
      "text/plain": [
       "<Figure size 640x480 with 1 Axes>"
      ]
     },
     "metadata": {},
     "output_type": "display_data"
    }
   ],
   "source": [
    "# Plotting Time to Accept\n",
    "ax = time_to_accept.plot(kind='bar', title='Time to Accept (Median & 90th Percentile)',\n",
    "                         ylabel='Time (seconds)', xlabel='Group', rot=0)\n",
    "\n",
    "# Add data labels\n",
    "for container in ax.containers:\n",
    "    for bar in container:\n",
    "        height = bar.get_height()\n",
    "        ax.text(bar.get_x() + bar.get_width()/2, height + 0.1, f'{height:.2f}', \n",
    "                ha='center', va='bottom', fontsize=9)\n",
    "\n",
    "plt.tight_layout()"
   ]
  },
  {
   "cell_type": "markdown",
   "id": "9eb0f219",
   "metadata": {},
   "source": [
    "### Informative Metrics"
   ]
  },
  {
   "cell_type": "code",
   "execution_count": 16,
   "id": "af8cde65",
   "metadata": {},
   "outputs": [
    {
     "name": "stdout",
     "output_type": "stream",
     "text": [
      "Median Position of Accepted Jobs:\n",
      "group\n",
      "control      1.0\n",
      "treatment    1.0\n",
      "Name: position, dtype: float64\n"
     ]
    }
   ],
   "source": [
    "# Median Position of Accepted Jobs\n",
    "median_position = accepts.groupby('group')['position'].median()\n",
    "print(\"Median Position of Accepted Jobs:\")\n",
    "print(median_position)"
   ]
  },
  {
   "cell_type": "code",
   "execution_count": 17,
   "id": "57f40361",
   "metadata": {},
   "outputs": [
    {
     "name": "stdout",
     "output_type": "stream",
     "text": [
      "Acceptance Rate at Selected Order:\n",
      "position         1         2         3         4         5         6   \\\n",
      "group                                                                   \n",
      "control    0.529007  0.216323  0.119961  0.058014  0.030482  0.022616   \n",
      "treatment  0.919617  0.053589  0.018182  0.004785  0.001914  0.000000   \n",
      "\n",
      "position         7         8       9         13  \n",
      "group                                            \n",
      "control    0.008850  0.007866  0.0059  0.000983  \n",
      "treatment  0.000957  0.000957  0.0000  0.000000  \n"
     ]
    }
   ],
   "source": [
    "# Acceptance Rate at Each Position\n",
    "accept_by_pos = accepts.groupby(['group', 'position']).size() / accepts.groupby('group').size()\n",
    "print(\"Acceptance Rate at Selected Order:\")\n",
    "print(accept_by_pos.unstack().fillna(0))"
   ]
  },
  {
   "cell_type": "code",
   "execution_count": 18,
   "id": "183e03c9",
   "metadata": {},
   "outputs": [
    {
     "data": {
      "image/png": "[encoded data removed]",
      "text/plain": [
       "<Figure size 1500x700 with 1 Axes>"
      ]
     },
     "metadata": {},
     "output_type": "display_data"
    }
   ],
   "source": [
    "# Plot the Acceptance Rate by Position in Job List\n",
    "\n",
    "# Convert to DataFrame for plotting\n",
    "accept_by_pos_df = accept_by_pos.unstack(level=0)\n",
    "\n",
    "# Define group colors\n",
    "group_colors = {'control': 'blue', 'treatment': 'green'}\n",
    "\n",
    "# Plotting\n",
    "plt.figure(figsize=(15, 7))\n",
    "\n",
    "for group in accept_by_pos_df.columns:\n",
    "    plt.plot(accept_by_pos_df.index, accept_by_pos_df[group], marker='o', label=group, color=group_colors[group])\n",
    "    # Add data labels\n",
    "    for x, y in zip(accept_by_pos_df.index, accept_by_pos_df[group]):\n",
    "        plt.text(x, y + 0.01, f'{y:.2f}', ha='center', va='bottom', fontsize=8, color=group_colors[group])\n",
    "\n",
    "plt.title('Acceptance Rate by Position in Job List')\n",
    "plt.xlabel('Position in Job List')\n",
    "plt.ylabel('Acceptance Rate')\n",
    "plt.xticks(accept_by_pos_df.index)\n",
    "plt.legend(title='Group')\n",
    "plt.show()"
   ]
  },
  {
   "cell_type": "markdown",
   "id": "23663b03",
   "metadata": {},
   "source": []
  },
  {
   "cell_type": "markdown",
   "id": "2fe33c5a",
   "metadata": {},
   "source": [
    "---\n",
    "## Statistical Analysis"
   ]
  },
  {
   "cell_type": "markdown",
   "id": "c10cba16",
   "metadata": {},
   "source": [
    "### Target Metrics Test"
   ]
  },
  {
   "cell_type": "markdown",
   "id": "cba290b0",
   "metadata": {},
   "source": [
    "#### Frequentist Approach\n",
    "\n",
    "Top-K Acceptance Rate (Target Metric):\n",
    "- Test: Two-proportion z-test (two-tailed).\n",
    "- H₀: Top-K Acceptance Rate is the same for both groups.\n",
    "- H₁: Treatment > Control."
   ]
  },
  {
   "cell_type": "code",
   "execution_count": 19,
   "id": "30188118",
   "metadata": {},
   "outputs": [
    {
     "name": "stdout",
     "output_type": "stream",
     "text": [
      "Z-statistic: 11.16, P-value: 0.0000 (two-tailed)\n"
     ]
    }
   ],
   "source": [
    "from statsmodels.stats.proportion import proportions_ztest\n",
    "\n",
    "control_accepts = len(accepts[accepts['group'] == 'control'])\n",
    "treatment_accepts = len(accepts[accepts['group'] == 'treatment'])\n",
    "control_top_k = len(top_k_accepts[top_k_accepts['group'] == 'control'])\n",
    "treatment_top_k = len(top_k_accepts[top_k_accepts['group'] == 'treatment'])\n",
    "\n",
    "# Use two-tailed test (alternative='two-sided')\n",
    "stat, pval = proportions_ztest([treatment_top_k, control_top_k], \n",
    "                               [treatment_accepts, control_accepts], \n",
    "                               alternative='two-sided')\n",
    "print(f\"Z-statistic: {stat:.2f}, P-value: {pval:.4f} (two-tailed)\")"
   ]
  },
  {
   "cell_type": "markdown",
   "id": "eada6346",
   "metadata": {},
   "source": [
    "**Quick Conclusion:**\n",
    "\n",
    "The two-proportion z-test comparing the Top-K Acceptance Rate between the treatment and control groups yielded a Z-statistic of 11.16 and a P-value of 0.0000 (two-tailed). This extremely low p-value indicates that the difference in Top-K Acceptance Rates between the two groups is highly statistically significant. \n",
    "\n",
    "**Interpretation:**  \n",
    "We reject the null hypothesis that the Top-K Acceptance Rates are equal. The treatment group’s Top-K Acceptance Rate is significantly different from (and, based on the direction of the effect, higher than) the control group’s rate. This provides strong evidence that the new ranking algorithm has a real, positive impact on surfacing more relevant job requests at the top of the list."
   ]
  },
  {
   "cell_type": "markdown",
   "id": "789e36e5",
   "metadata": {},
   "source": [
    "#### Bayesian Approach\n",
    "\n",
    "Top-K Acceptance Rate:\n",
    "- Prior: Beta(1, 1) (non-informative).\n",
    "- Posterior: Update with observed data."
   ]
  },
  {
   "cell_type": "code",
   "execution_count": 20,
   "id": "39b7a00d",
   "metadata": {},
   "outputs": [
    {
     "name": "stdout",
     "output_type": "stream",
     "text": [
      "Probability Treatment > Control: 1.0000\n"
     ]
    }
   ],
   "source": [
    "from scipy.stats import beta\n",
    "\n",
    "control_success = control_top_k\n",
    "control_fail = control_accepts - control_success\n",
    "treatment_success = treatment_top_k\n",
    "treatment_fail = treatment_accepts - treatment_success\n",
    "\n",
    "post_control = beta(1 + control_success, 1 + control_fail)\n",
    "post_treatment = beta(1 + treatment_success, 1 + treatment_fail)\n",
    "\n",
    "samples_control = post_control.rvs(100000)\n",
    "samples_treatment = post_treatment.rvs(100000)\n",
    "\n",
    "prob_treatment_better = np.mean(samples_treatment > samples_control)\n",
    "print(f\"Probability Treatment > Control: {prob_treatment_better:.4f}\")"
   ]
  },
  {
   "cell_type": "markdown",
   "id": "483968a8",
   "metadata": {},
   "source": [
    "#### Confidence Interval Check"
   ]
  },
  {
   "cell_type": "code",
   "execution_count": 22,
   "id": "d426bf86",
   "metadata": {},
   "outputs": [
    {
     "name": "stdout",
     "output_type": "stream",
     "text": [
      "Point estimate of difference: 0.1261\n",
      "95% CI for difference: [0.1050, 0.1488]\n",
      "The 95% CI excludes zero (entirely positive), indicating a significant improvement.\n"
     ]
    }
   ],
   "source": [
    "from statsmodels.stats.proportion import proportions_ztest, confint_proportions_2indep\n",
    "import numpy as np\n",
    "\n",
    "# Data from simulation\n",
    "control_accepts = len(accepts[accepts['group'] == 'control'])\n",
    "treatment_accepts = len(accepts[accepts['group'] == 'treatment'])\n",
    "control_top_k = len(top_k_accepts[top_k_accepts['group'] == 'control'])\n",
    "treatment_top_k = len(top_k_accepts[top_k_accepts['group'] == 'treatment'])\n",
    "\n",
    "# Calculate point estimate of the difference\n",
    "p1 = treatment_top_k / treatment_accepts\n",
    "p2 = control_top_k / control_accepts\n",
    "diff = p1 - p2\n",
    "\n",
    "# 95% confidence interval for the difference\n",
    "ci_lower, ci_upper = confint_proportions_2indep(\n",
    "    count1=treatment_top_k, nobs1=treatment_accepts,\n",
    "    count2=control_top_k, nobs2=control_accepts,\n",
    "    compare='diff', alpha=0.05\n",
    ")\n",
    "print(f\"Point estimate of difference: {diff:.4f}\")\n",
    "print(f\"95% CI for difference: [{ci_lower:.4f}, {ci_upper:.4f}]\")\n",
    "\n",
    "# Check if CI includes zero\n",
    "if ci_lower > 0:\n",
    "    print(\"The 95% CI excludes zero (entirely positive), indicating a significant improvement.\")\n",
    "elif ci_upper < 0:\n",
    "    print(\"The 95% CI excludes zero (entirely negative), indicating a significant decrease.\")\n",
    "else:\n",
    "    print(\"The 95% CI includes zero, suggesting the difference may not be significant.\")"
   ]
  },
  {
   "cell_type": "markdown",
   "id": "40efd27e",
   "metadata": {},
   "source": [
    "### Guardrail Metrics Test"
   ]
  },
  {
   "cell_type": "markdown",
   "id": "26f144f6",
   "metadata": {},
   "source": [
    "Guardrail metrics act as safety checks to ensure that the treatment doesn’t unintentionally harm other important aspects of our platform, even if it improves the primary goal. Skipping this step risks rolling out a change that boosts our target metric but quietly damages something else critical."
   ]
  },
  {
   "cell_type": "code",
   "execution_count": 23,
   "id": "7034bc0b",
   "metadata": {},
   "outputs": [
    {
     "data": {
      "text/plain": [
       "Text(0.5, 1.0, 'Distribution of Time to Accept Jobs')"
      ]
     },
     "execution_count": 23,
     "metadata": {},
     "output_type": "execute_result"
    },
    {
     "data": {
      "image/png": "[encoded data removed]",
      "text/plain": [
       "<Figure size 640x480 with 1 Axes>"
      ]
     },
     "metadata": {},
     "output_type": "display_data"
    }
   ],
   "source": [
    "# Checking the distribution of time to accept\n",
    "events_df['time_to_accept'].hist(bins=30, edgecolor='black')\n",
    "plt.title('Distribution of Time to Accept Jobs')"
   ]
  },
  {
   "cell_type": "markdown",
   "id": "18c2daa6",
   "metadata": {},
   "source": [
    "The types of test are different for the two guardrail metrics:\n",
    "- For Overall Acceptance Rate, we use a two-tailed z-test to see if the treatment acceptance rate is different from the control and which direction.\n",
    "    - Hypotheses:\n",
    "        - Null (H₀): Treatment acceptance rate = Control acceptance rate.\n",
    "        - Alternative (H₁): Treatment acceptance rate <> Control acceptance rate.\n",
    "    - alpha: 0.05\n",
    "- For Time to Accept, we use a Mann-Whitney U test to check if the treatment group has significantly higher (worse) times than the control (t-test is only good when data is normally distributed).\n",
    "    - Hypotheses:\n",
    "        - Null (H₀): Treatment times are not greater than control times.\n",
    "        - Alternative (H₁): Treatment times are greater than control times.\n",
    "    - alpha: 0.05"
   ]
  },
  {
   "cell_type": "markdown",
   "id": "5cd7f10d",
   "metadata": {},
   "source": [
    "#### Overall Acceptance Rate"
   ]
  },
  {
   "cell_type": "code",
   "execution_count": 25,
   "id": "d27027f1",
   "metadata": {},
   "outputs": [
    {
     "name": "stdout",
     "output_type": "stream",
     "text": [
      "Overall Acceptance Rate Test (Two-Tailed):\n",
      "Control Rate: 0.3011\n",
      "Treatment Rate: 0.4561\n",
      "Z-statistic: 11.91\n",
      "P-value: 0.0000\n",
      "95% CI for difference: [0.1294, 0.1806]\n"
     ]
    }
   ],
   "source": [
    "control_data = events_df[events_df['group'] == 'control']\n",
    "treatment_data = events_df[events_df['group'] == 'treatment']\n",
    "\n",
    "opens = events_df[events_df['event_type'] == 'open']\n",
    "\n",
    "control_accepts = len(control_data[control_data['event_type'] == 'accept'])\n",
    "n_control = len(control_data)\n",
    "treatment_accepts = len(treatment_data[treatment_data['event_type'] == 'accept'])\n",
    "n_treatment = len(treatment_data)\n",
    "\n",
    "# Two-tailed z-test\n",
    "stat, pval = proportions_ztest([treatment_accepts, control_accepts], \n",
    "                               [n_treatment, n_control], \n",
    "                               alternative='two-sided')\n",
    "\n",
    "# 95% CI for difference (already two-tailed by default)\n",
    "ci_lower, ci_upper = confint_proportions_2indep(\n",
    "    treatment_accepts, n_treatment, \n",
    "    control_accepts, n_control, \n",
    "    compare='diff', alpha=0.05\n",
    ")\n",
    "\n",
    "print(\"Overall Acceptance Rate Test (Two-Tailed):\")\n",
    "print(f\"Control Rate: {control_accepts/n_control:.4f}\")\n",
    "print(f\"Treatment Rate: {treatment_accepts/n_treatment:.4f}\")\n",
    "print(f\"Z-statistic: {stat:.2f}\")\n",
    "print(f\"P-value: {pval:.4f}\")\n",
    "print(f\"95% CI for difference: [{ci_lower:.4f}, {ci_upper:.4f}]\")"
   ]
  },
  {
   "cell_type": "markdown",
   "id": "67e39417",
   "metadata": {},
   "source": [
    "The treatment group has a significantly higher overall acceptance rate than the control group. There’s no indication of harm, and in fact, performance has improved.\n",
    "\n",
    "It passes the check for guardrail metric Overall Acceptance."
   ]
  },
  {
   "cell_type": "markdown",
   "id": "bceb0fb0",
   "metadata": {},
   "source": [
    "#### Time to Accept"
   ]
  },
  {
   "cell_type": "code",
   "execution_count": 26,
   "id": "f6905a1e",
   "metadata": {},
   "outputs": [
    {
     "name": "stdout",
     "output_type": "stream",
     "text": [
      "\n",
      "Time to Accept Test (Two-Tailed):\n",
      "Control Median Time: 5.00\n",
      "Treatment Median Time: 5.00\n",
      "U-statistic: 318818.00\n",
      "P-value: 0.0000\n"
     ]
    }
   ],
   "source": [
    "import scipy.stats as stats\n",
    "\n",
    "control_times = control_data[control_data['event_type'] == 'accept']['time_to_accept']\n",
    "treatment_times = treatment_data[treatment_data['event_type'] == 'accept']['time_to_accept']\n",
    "\n",
    "# Two-tailed Mann-Whitney U test\n",
    "u_stat, pval_time = stats.mannwhitneyu(treatment_times, control_times, alternative='two-sided')\n",
    "\n",
    "# Print results\n",
    "print(\"\\nTime to Accept Test (Two-Tailed):\")\n",
    "print(f\"Control Median Time: {control_times.median():.2f}\")\n",
    "print(f\"Treatment Median Time: {treatment_times.median():.2f}\")\n",
    "print(f\"U-statistic: {u_stat:.2f}\")\n",
    "print(f\"P-value: {pval_time:.4f}\")"
   ]
  },
  {
   "cell_type": "markdown",
   "id": "21a35f7c",
   "metadata": {},
   "source": [
    "It appears that the median Time to Accept for both are identical. I will check it again just to be sure"
   ]
  },
  {
   "cell_type": "code",
   "execution_count": 27,
   "id": "54fa689c",
   "metadata": {},
   "outputs": [
    {
     "name": "stdout",
     "output_type": "stream",
     "text": [
      "\n",
      "Time to Accept Test (Two-Tailed):\n",
      "U-statistic: 318818.00\n",
      "P-value: 0.0000\n"
     ]
    }
   ],
   "source": [
    "# Two-tailed Mann-Whitney U test\n",
    "u_stat_two_tailed, pval_time_two_tailed = stats.mannwhitneyu(treatment_times, control_times, alternative='two-sided')\n",
    "\n",
    "# Print results\n",
    "print(\"\\nTime to Accept Test (Two-Tailed):\")\n",
    "print(f\"U-statistic: {u_stat_two_tailed:.2f}\")\n",
    "print(f\"P-value: {pval_time_two_tailed:.4f}\")\n"
   ]
  },
  {
   "cell_type": "markdown",
   "id": "96dab377",
   "metadata": {},
   "source": [
    "The median time to test of both the Treatment and Control are identical. So, the Treatment doesn't increases the time it takes for suppliers to accept a job. \n",
    "\n",
    "It passes the check for guardrail metric Time to Accept."
   ]
  },
  {
   "cell_type": "markdown",
   "id": "1cc4a3d1",
   "metadata": {},
   "source": [
    ">*Note: No statistical adjustment (e.g., Bonferroni correction) is applied to the primary metric, as it serves as the main decision-making criterion. Applying such corrections would reduce statistical power and make it harder to detect true effects. In contrast, guardrail metrics are not the focus of the test—they are used to monitor for unintended negative side effects. A higher false positive rate is acceptable for guardrails since they are not used to make launch decisions. This approach aligns with common industry practice: prioritize sensitivity for the primary metric while using guardrails as safety checks rather than strict decision criteria.*"
   ]
  },
  {
   "cell_type": "markdown",
   "id": "da1759e6",
   "metadata": {},
   "source": []
  },
  {
   "cell_type": "markdown",
   "id": "f098d3ea",
   "metadata": {},
   "source": [
    "---"
   ]
  },
  {
   "cell_type": "markdown",
   "id": "cd8cf4ac",
   "metadata": {},
   "source": [
    "## Conclusion\n",
    "\n",
    "### Key Findings:\n",
    "\n",
    "- The new ranking algorithm (treatment) **significantly improved the Top-K Acceptance Rate** (*p* < 0.05), confirming its effectiveness in prioritizing relevant job requests.\n",
    "- The **Overall Acceptance Rate increased**, indicating enhanced supplier engagement across the platform.\n",
    "- The **Time to Accept remained stable**, ensuring no negative impact on decision-making speed or user experience.\n",
    "\n",
    "### Practical Significance:\n",
    "\n",
    "- Suppliers can more quickly identify and accept suitable jobs, improving efficiency.\n",
    "- This change boosts supplier satisfaction and increases platform activity, potentially driving higher revenue through more completed job requests.\n",
    "- The stable Time to Accept ensures the user experience remains seamless, maintaining supplier retention and trust.\n"
   ]
  },
  {
   "cell_type": "markdown",
   "id": "1c816f77",
   "metadata": {},
   "source": []
  },
  {
   "cell_type": "markdown",
   "id": "4f4a5e6d",
   "metadata": {},
   "source": [
    "---"
   ]
  },
  {
   "cell_type": "markdown",
   "id": "af9c50cd",
   "metadata": {},
   "source": [
    "## Recommendation\n",
    "\n",
    "### Action:\n",
    "\n",
    "- **Launch the new ranking algorithm** across the platform to capitalize on the observed improvements.\n",
    "\n",
    "### Expected Benefits:\n",
    "\n",
    "- Enhanced recommendation relevance, leading to faster job acceptance and reduced search time for suppliers.\n",
    "- Increased supplier engagement, potentially resulting in a **5–10% increase in completed jobs monthly** (depending on scale).\n",
    "\n",
    "### Next Steps:\n",
    "\n",
    "- Monitor supplier feedback post-launch (using dashboards) to ensure the algorithm meets evolving needs.\n",
    "- Conduct periodic evaluations of acceptance rates and user experience metrics to maintain and refine performance.\n"
   ]
  }
 ],
 "metadata": {
  "kernelspec": {
   "display_name": "Python 3",
   "language": "python",
   "name": "python3"
  },
  "language_info": {
   "codemirror_mode": {
    "name": "ipython",
    "version": 3
   },
   "file_extension": ".py",
   "mimetype": "text/x-python",
   "name": "python",
   "nbconvert_exporter": "python",
   "pygments_lexer": "ipython3",
   "version": "3.12.3"
  }
 },
 "nbformat": 4,
 "nbformat_minor": 5
}
